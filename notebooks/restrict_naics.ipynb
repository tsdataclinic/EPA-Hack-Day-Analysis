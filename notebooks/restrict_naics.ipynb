{
 "cells": [
  {
   "cell_type": "code",
   "execution_count": 5,
   "metadata": {},
   "outputs": [],
   "source": [
    "import geopandas as gpd\n",
    "import pandas as pd\n",
    "import os\n",
    "import matplotlib.pyplot as plt\n",
    "from io import StringIO\n",
    "from shapely.geometry import Point\n",
    "# Use your own path here\n",
    "os.chdir(\"/Users/canyonfoot/Documents/python_proj/EPA-Hack-Day-Analysis\")\n",
    "\n",
    "from typing import Optional\n",
    "\n",
    "import pickle\n",
    "import numpy as np\n",
    "\n",
    "pd.options.mode.chained_assignment = None"
   ]
  },
  {
   "cell_type": "code",
   "execution_count": 24,
   "metadata": {},
   "outputs": [],
   "source": [
    "RMP_data = gpd.read_file(\"data/processed/facilities_geo.geojson\")\n",
    "naics_mapping = gpd.read_file(\"data/processed/epa_naics_mapping.csv\").reset_index()\n",
    "gdf_urban_all = gpd.read_file(\"https://www2.census.gov/geo/tiger/TIGER_RD18/LAYER/UAC20/tl_rd22_us_uac20.zip\").rename(columns = {\"NAME20\": \"UA_NAME\"})[['UA_NAME','geometry']]\n",
    "UA_stats = pd.read_csv(\"data/processed/urban_area_statistics.csv\").query(\"facility_count >= 10\")"
   ]
  },
  {
   "cell_type": "code",
   "execution_count": 25,
   "metadata": {},
   "outputs": [],
   "source": [
    "gdf_urban_all = gdf_urban_all.merge(UA_stats[\"UA_NAME\"])"
   ]
  },
  {
   "cell_type": "code",
   "execution_count": 27,
   "metadata": {},
   "outputs": [],
   "source": [
    "RMP_data.NAICSCode = RMP_data.NAICSCode.astype(str)\n",
    "RMP_data.NAICS_3 = RMP_data.NAICS_3.astype(str)"
   ]
  },
  {
   "cell_type": "code",
   "execution_count": 29,
   "metadata": {},
   "outputs": [],
   "source": [
    "conditions = [\n",
    "    (RMP_data['NAICS_3'] == \"325\"),\n",
    "    (RMP_data['NAICS_3'] == \"331\"),\n",
    "    (RMP_data['NAICS_3'] == \"311\"),\n",
    "    (RMP_data['NAICSCode'].str.slice(0,4) == \"2122\"),\n",
    "    (RMP_data['NAICS_3'] == \"324\"),\n",
    "    (RMP_data['NAICS_3'] == \"322\"),\n",
    "    (RMP_data['NAICSCode'].str.slice(0,4) == \"2211\"),\n",
    "    (RMP_data['NAICSCode'] == \"562112\") | (RMP_data['NAICSCode'] == \"562112\")\n",
    "]\n",
    "\n",
    "choices = [\"Chemical Manufacturing\",\n",
    "\"Primary Metals\",\n",
    "\"Food Manufacturing\",\n",
    "\"Metal Mining\",\n",
    "\"Petroleum Products Manufacturing\",\n",
    "\"Paper Manufacturing\",\n",
    "\"Electric Utilities\",\n",
    "\"Hazardous Waste Management\"]"
   ]
  },
  {
   "cell_type": "code",
   "execution_count": 30,
   "metadata": {},
   "outputs": [],
   "source": [
    "RMP_data[\"EPA_industry\"] = np.select(conditions, choices, \"Other\")"
   ]
  },
  {
   "cell_type": "code",
   "execution_count": 31,
   "metadata": {},
   "outputs": [],
   "source": [
    "RMP_UA = RMP_data.overlay(gdf_urban_all.to_crs(4326))"
   ]
  },
  {
   "cell_type": "code",
   "execution_count": 35,
   "metadata": {},
   "outputs": [],
   "source": [
    "RMP_UA[\"Description\"] = \"Urban Area: \" + RMP_UA[\"UA_NAME\"] + '/n' + \"Facility Industry: \" + RMP_data[\"EPA_industry\"]"
   ]
  },
  {
   "cell_type": "code",
   "execution_count": 39,
   "metadata": {},
   "outputs": [],
   "source": [
    "gdf_urban_all[\"geometry\"] = gdf_urban_all.simplify(0.001)"
   ]
  },
  {
   "cell_type": "code",
   "execution_count": 55,
   "metadata": {},
   "outputs": [],
   "source": [
    "gdf_urban_all[[\"UA_NAME\", \"geometry\"]].to_file(\"viz/data/urban_areas.geojson\")\n",
    "RMP_UA[[\"EPAFacilityID\", \"Description\", \"geometry\"]].to_file(\"viz/data/RMP_facilities.geojson\")"
   ]
  }
 ],
 "metadata": {
  "kernelspec": {
   "display_name": "canyon_nest",
   "language": "python",
   "name": "python3"
  },
  "language_info": {
   "codemirror_mode": {
    "name": "ipython",
    "version": 3
   },
   "file_extension": ".py",
   "mimetype": "text/x-python",
   "name": "python",
   "nbconvert_exporter": "python",
   "pygments_lexer": "ipython3",
   "version": "3.10.8"
  },
  "orig_nbformat": 4
 },
 "nbformat": 4,
 "nbformat_minor": 2
}
